{
 "cells": [
  {
   "cell_type": "code",
   "execution_count": 1,
   "id": "76cca9b2",
   "metadata": {},
   "outputs": [],
   "source": [
    "grid = [\n",
    "    [7,0,0,  0,0,9,  0,0,0],\n",
    "    [0,0,0,  6,0,0,  0,4,0],\n",
    "    [0,0,2,  0,0,0,  0,0,0],\n",
    "\n",
    "    [0,0,0,  0,0,0,  4,0,0],\n",
    "    [0,5,0,  0,4,6,  0,0,0],\n",
    "    [0,0,0,  0,0,0,  0,0,0],\n",
    "\n",
    "    [0,0,6,  0,0,0,  0,0,5],\n",
    "    [2,0,0,  5,0,0,  0,0,0],\n",
    "    [0,0,0,  0,0,0,  0,3,0]\n",
    "]"
   ]
  },
  {
   "cell_type": "code",
   "execution_count": 2,
   "id": "777f10e1",
   "metadata": {},
   "outputs": [],
   "source": [
    "grid_solution = [\n",
    "    [7,8,4,  1,5,9,  3,2,6],\n",
    "    [5,3,9,  6,7,2,  8,4,1],\n",
    "    [6,1,2,  4,3,8,  7,5,9],\n",
    "\n",
    "    [9,2,8,  7,1,5,  4,6,3],\n",
    "    [3,5,7,  8,4,6,  1,9,2],\n",
    "    [4,6,1,  9,2,3,  5,8,7],\n",
    "\n",
    "    [8,7,6,  3,9,4,  2,1,5],\n",
    "    [2,4,3,  5,6,1,  9,7,8],\n",
    "    [1,9,5,  2,8,7,  6,3,4]\n",
    "]"
   ]
  },
  {
   "cell_type": "code",
   "execution_count": 7,
   "id": "1901f09f",
   "metadata": {
    "scrolled": true
   },
   "outputs": [
    {
     "name": "stdout",
     "output_type": "stream",
     "text": [
      "Setup variable\n"
     ]
    }
   ],
   "source": [
    "# Def all the variable need \n",
    "LENGTH = 9 \n",
    "VALID = list(range (1, 10))\n",
    "print(\"Setup variable\")"
   ]
  },
  {
   "cell_type": "markdown",
   "id": "741e7125",
   "metadata": {},
   "source": [
    "# Décomposition du projet\n",
    "## Methode Check Row / Column / Square\n",
    "\n",
    "## Méthode pour trouver les 0 & les remplacer par 1 à 9\n",
    "\n",
    "## Faire les test pour chaque 0 remplacé "
   ]
  },
  {
   "cell_type": "code",
   "execution_count": 9,
   "id": "e39e416a",
   "metadata": {},
   "outputs": [],
   "source": [
    "def checker(grid):\n",
    "    #check row\n",
    "    for row in grid:\n",
    "        if sorted(row) != VALID:\n",
    "            return False\n",
    "    \n",
    "    #ckeck col\n",
    "    for i in range(LENGTH):\n",
    "        columns = []\n",
    "        for j in range(LENGTH):\n",
    "            columns.append(grid[j][i])\n",
    "\n",
    "        if sorted(columns) != VALID:\n",
    "            return False\n",
    "        \n",
    "    #check square\n",
    "    for k in range(0, 9, 3):\n",
    "        for l in range(0, 9, 3):\n",
    "            square = []\n",
    "            for i in range(0, 3):\n",
    "                for j in range(0, 3):\n",
    "                    square.append(grid[i+k][j+l])\n",
    "            if sorted(square) != VALID:\n",
    "                return False\n",
    "            \n",
    "    return True"
   ]
  },
  {
   "cell_type": "code",
   "execution_count": 10,
   "id": "cccbc7ce",
   "metadata": {},
   "outputs": [
    {
     "data": {
      "text/plain": [
       "False"
      ]
     },
     "execution_count": 10,
     "metadata": {},
     "output_type": "execute_result"
    }
   ],
   "source": [
    "checker(grid)"
   ]
  },
  {
   "cell_type": "code",
   "execution_count": null,
   "id": "1b3896ad",
   "metadata": {},
   "outputs": [],
   "source": [
    "def find_empty(grid):\n",
    "    pass"
   ]
  }
 ],
 "metadata": {
  "kernelspec": {
   "display_name": "Python 3 (ipykernel)",
   "language": "python",
   "name": "python3"
  },
  "language_info": {
   "codemirror_mode": {
    "name": "ipython",
    "version": 3
   },
   "file_extension": ".py",
   "mimetype": "text/x-python",
   "name": "python",
   "nbconvert_exporter": "python",
   "pygments_lexer": "ipython3",
   "version": "3.10.7"
  },
  "toc": {
   "base_numbering": 1,
   "nav_menu": {},
   "number_sections": true,
   "sideBar": true,
   "skip_h1_title": false,
   "title_cell": "Table of Contents",
   "title_sidebar": "Contents",
   "toc_cell": false,
   "toc_position": {},
   "toc_section_display": true,
   "toc_window_display": false
  }
 },
 "nbformat": 4,
 "nbformat_minor": 5
}
