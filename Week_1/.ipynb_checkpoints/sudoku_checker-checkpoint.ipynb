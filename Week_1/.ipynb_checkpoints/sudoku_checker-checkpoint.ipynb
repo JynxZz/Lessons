{
 "cells": [
  {
   "cell_type": "code",
   "execution_count": 67,
   "id": "19153ab0",
   "metadata": {},
   "outputs": [],
   "source": [
    "        grid = [\n",
    "            [7,8,4,  1,5,9,  3,2,6],\n",
    "            [5,3,9,  6,2,7,  8,4,1],\n",
    "            [6,1,2,  4,3,8,  7,5,9],\n",
    "\n",
    "            [9,2,8,  7,1,5,  4,6,3],\n",
    "            [3,5,7,  8,4,6,  1,9,2],\n",
    "            [4,6,1,  9,2,3,  5,8,7],\n",
    "\n",
    "            [8,7,6,  3,9,4,  2,1,5],\n",
    "            [2,4,3,  5,6,1,  9,7,8],\n",
    "            [1,9,5,  2,8,7,  6,3,4]\n",
    "        ]\n",
    "    "
   ]
  },
  {
   "cell_type": "code",
   "execution_count": 68,
   "id": "1671b634",
   "metadata": {},
   "outputs": [],
   "source": [
    "# checker\n",
    "def checker(matrice):\n",
    "    for row in matrice:\n",
    "        if not set(row):\n",
    "            return False\n",
    "    return True "
   ]
  },
  {
   "cell_type": "code",
   "execution_count": 69,
   "id": "8523faf7",
   "metadata": {
    "scrolled": true
   },
   "outputs": [
    {
     "data": {
      "text/plain": [
       "True"
      ]
     },
     "execution_count": 69,
     "metadata": {},
     "output_type": "execute_result"
    }
   ],
   "source": [
    "checker(grid)"
   ]
  },
  {
   "cell_type": "code",
   "execution_count": 70,
   "id": "fc82eedf",
   "metadata": {},
   "outputs": [],
   "source": [
    "def col(matrice):\n",
    "    columns = [[0 for i in range(len(matrice))] for j in range(len(matrice))]\n",
    "    for i in range(0, len(grid)):\n",
    "        for j in range(0, len(matrice[i])):\n",
    "            columns[i][j] = matrice[j][i]\n",
    "            \n",
    "    return columns"
   ]
  },
  {
   "cell_type": "code",
   "execution_count": 71,
   "id": "ca6e001e",
   "metadata": {},
   "outputs": [
    {
     "data": {
      "text/plain": [
       "[[7, 5, 6, 9, 3, 4, 8, 2, 1],\n",
       " [8, 3, 1, 2, 5, 6, 7, 4, 9],\n",
       " [4, 9, 2, 8, 7, 1, 6, 3, 5],\n",
       " [1, 6, 4, 7, 8, 9, 3, 5, 2],\n",
       " [5, 2, 3, 1, 4, 2, 9, 6, 8],\n",
       " [9, 7, 8, 5, 6, 3, 4, 1, 7],\n",
       " [3, 8, 7, 4, 1, 5, 2, 9, 6],\n",
       " [2, 4, 5, 6, 9, 8, 1, 7, 3],\n",
       " [6, 1, 9, 3, 2, 7, 5, 8, 4]]"
      ]
     },
     "execution_count": 71,
     "metadata": {},
     "output_type": "execute_result"
    }
   ],
   "source": [
    "col(grid)"
   ]
  },
  {
   "cell_type": "code",
   "execution_count": 104,
   "id": "41006b0b",
   "metadata": {},
   "outputs": [],
   "source": [
    "def square(matrice):\n",
    "    square = []\n",
    "    for k in range(0, 9, 3):\n",
    "        for l in range(0, 9, 3): \n",
    "            for i in range(0, l):\n",
    "                for j in range(0, k):\n",
    "                    square.append(matrice[i][j])\n",
    "    for i in range(0, len)\n",
    "                \n",
    "    return square"
   ]
  },
  {
   "cell_type": "code",
   "execution_count": 106,
   "id": "3747b5fd",
   "metadata": {},
   "outputs": [
    {
     "data": {
      "text/plain": [
       "324"
      ]
     },
     "execution_count": 106,
     "metadata": {},
     "output_type": "execute_result"
    }
   ],
   "source": [
    "len(square(grid))"
   ]
  },
  {
   "cell_type": "code",
   "execution_count": 107,
   "id": "93ba7258",
   "metadata": {},
   "outputs": [
    {
     "data": {
      "text/plain": [
       "81"
      ]
     },
     "execution_count": 107,
     "metadata": {},
     "output_type": "execute_result"
    }
   ],
   "source": []
  },
  {
   "cell_type": "code",
   "execution_count": 56,
   "id": "ff4ab56f",
   "metadata": {},
   "outputs": [],
   "source": [
    "square_1 = [grid[0][0], grid[0][1], grid[0][2], grid[1][0], grid[1][1], grid[1][2], grid[2][0], grid[2][1], grid[2][2]]"
   ]
  },
  {
   "cell_type": "code",
   "execution_count": 58,
   "id": "3086e489",
   "metadata": {},
   "outputs": [],
   "source": [
    "square_2 = [grid[0][3], grid[0][4], grid[0][5], grid[1][3], grid[1][4], grid[1][5], grid[2][3], grid[2][4], grid[2][5]]"
   ]
  },
  {
   "cell_type": "code",
   "execution_count": 61,
   "id": "1d12298f",
   "metadata": {},
   "outputs": [],
   "source": [
    "square_4 = [grid[3][0], grid[3][1], grid[3][2], grid[4][0], grid[4][1], grid[4][2], grid[5][0], grid[5][1], grid[5][2]]"
   ]
  }
 ],
 "metadata": {
  "kernelspec": {
   "display_name": "Python 3 (ipykernel)",
   "language": "python",
   "name": "python3"
  },
  "language_info": {
   "codemirror_mode": {
    "name": "ipython",
    "version": 3
   },
   "file_extension": ".py",
   "mimetype": "text/x-python",
   "name": "python",
   "nbconvert_exporter": "python",
   "pygments_lexer": "ipython3",
   "version": "3.10.7"
  },
  "toc": {
   "base_numbering": 1,
   "nav_menu": {},
   "number_sections": true,
   "sideBar": true,
   "skip_h1_title": false,
   "title_cell": "Table of Contents",
   "title_sidebar": "Contents",
   "toc_cell": false,
   "toc_position": {},
   "toc_section_display": true,
   "toc_window_display": false
  }
 },
 "nbformat": 4,
 "nbformat_minor": 5
}
