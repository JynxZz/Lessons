{
 "cells": [
  {
   "cell_type": "code",
   "execution_count": 117,
   "id": "19153ab0",
   "metadata": {},
   "outputs": [],
   "source": [
    "        grid = [\n",
    "            [7,8,4,  1,5,9,  3,2,6],\n",
    "            [5,3,9,  6,2,7,  8,4,1],\n",
    "            [6,1,2,  4,3,8,  7,5,9],\n",
    "\n",
    "            [9,2,8,  7,1,5,  4,6,3],\n",
    "            [3,5,7,  8,4,6,  1,9,2],\n",
    "            [4,6,1,  9,2,3,  5,8,7],\n",
    "\n",
    "            [8,7,6,  3,9,4,  2,1,5],\n",
    "            [2,4,3,  5,6,1,  9,7,8],\n",
    "            [1,9,5,  2,8,7,  6,3,4]\n",
    "        ]\n",
    "    "
   ]
  },
  {
   "cell_type": "code",
   "execution_count": 124,
   "id": "b3e13098",
   "metadata": {},
   "outputs": [],
   "source": [
    "def checker(check):\n",
    "    return sorted(check) == [1,2,3,4,5,6,7,8,9]"
   ]
  },
  {
   "cell_type": "code",
   "execution_count": 125,
   "id": "1671b634",
   "metadata": {},
   "outputs": [],
   "source": [
    "\n",
    "def check_row(grid):\n",
    "    for row in grid:\n",
    "        if not checker(row):\n",
    "            return False\n",
    "    return True"
   ]
  },
  {
   "cell_type": "code",
   "execution_count": 126,
   "id": "484a0da3",
   "metadata": {},
   "outputs": [
    {
     "data": {
      "text/plain": [
       "True"
      ]
     },
     "execution_count": 126,
     "metadata": {},
     "output_type": "execute_result"
    }
   ],
   "source": [
    "check_row(grid)"
   ]
  },
  {
   "cell_type": "code",
   "execution_count": 127,
   "id": "fc82eedf",
   "metadata": {},
   "outputs": [],
   "source": [
    "def check_columns(grid):\n",
    "    for i in range(0, 9):\n",
    "        columns = []\n",
    "        for j in range(0, 9):\n",
    "            columns.append(grid[j][i])\n",
    "            \n",
    "        if not checker(columns):\n",
    "            return False\n",
    "    return True"
   ]
  },
  {
   "cell_type": "code",
   "execution_count": 128,
   "id": "aa108c1b",
   "metadata": {},
   "outputs": [
    {
     "data": {
      "text/plain": [
       "False"
      ]
     },
     "execution_count": 128,
     "metadata": {},
     "output_type": "execute_result"
    }
   ],
   "source": [
    "check_columns(grid)"
   ]
  },
  {
   "cell_type": "code",
   "execution_count": 121,
   "id": "41006b0b",
   "metadata": {},
   "outputs": [],
   "source": [
    "def check_square(grid):\n",
    "    for k in range(0, 9, 3):\n",
    "        for l in range(0, 9, 3): \n",
    "            square = []\n",
    "            for i in range(0, 3):\n",
    "                for j in range(0, 3):\n",
    "                    square.append(grid[i+k][j+l])\n",
    "            if not checker(square):\n",
    "                return False\n",
    "    return True"
   ]
  },
  {
   "cell_type": "code",
   "execution_count": 129,
   "id": "ef4e80a6",
   "metadata": {},
   "outputs": [
    {
     "data": {
      "text/plain": [
       "True"
      ]
     },
     "execution_count": 129,
     "metadata": {},
     "output_type": "execute_result"
    }
   ],
   "source": [
    "check_square(grid)"
   ]
  },
  {
   "cell_type": "code",
   "execution_count": 130,
   "id": "3969d390",
   "metadata": {},
   "outputs": [
    {
     "data": {
      "text/plain": [
       "False"
      ]
     },
     "execution_count": 130,
     "metadata": {},
     "output_type": "execute_result"
    }
   ],
   "source": [
    "check_row(grid) and check_columns(grid) and check_square(grid)"
   ]
  },
  {
   "cell_type": "code",
   "execution_count": 56,
   "id": "ff4ab56f",
   "metadata": {},
   "outputs": [],
   "source": [
    "square_1 = [grid[0][0], grid[0][1], grid[0][2], grid[1][0], grid[1][1], grid[1][2], grid[2][0], grid[2][1], grid[2][2]]"
   ]
  },
  {
   "cell_type": "code",
   "execution_count": 58,
   "id": "3086e489",
   "metadata": {},
   "outputs": [],
   "source": [
    "square_2 = [grid[0][3], grid[0][4], grid[0][5], grid[1][3], grid[1][4], grid[1][5], grid[2][3], grid[2][4], grid[2][5]]"
   ]
  },
  {
   "cell_type": "code",
   "execution_count": 61,
   "id": "1d12298f",
   "metadata": {},
   "outputs": [],
   "source": [
    "square_4 = [grid[3][0], grid[3][1], grid[3][2], grid[4][0], grid[4][1], grid[4][2], grid[5][0], grid[5][1], grid[5][2]]"
   ]
  }
 ],
 "metadata": {
  "kernelspec": {
   "display_name": "Python 3 (ipykernel)",
   "language": "python",
   "name": "python3"
  },
  "language_info": {
   "codemirror_mode": {
    "name": "ipython",
    "version": 3
   },
   "file_extension": ".py",
   "mimetype": "text/x-python",
   "name": "python",
   "nbconvert_exporter": "python",
   "pygments_lexer": "ipython3",
   "version": "3.10.7"
  },
  "toc": {
   "base_numbering": 1,
   "nav_menu": {},
   "number_sections": true,
   "sideBar": true,
   "skip_h1_title": false,
   "title_cell": "Table of Contents",
   "title_sidebar": "Contents",
   "toc_cell": false,
   "toc_position": {},
   "toc_section_display": true,
   "toc_window_display": false
  }
 },
 "nbformat": 4,
 "nbformat_minor": 5
}
